{
 "cells": [
  {
   "cell_type": "code",
   "id": "initial_id",
   "metadata": {
    "collapsed": true,
    "ExecuteTime": {
     "end_time": "2024-07-12T15:05:28.183526Z",
     "start_time": "2024-07-12T15:05:20.716021Z"
    }
   },
   "source": [
    "import numpy as np\n",
    "import pandas as pd\n",
    "from sklearn.model_selection import KFold\n",
    "from single_dataset import read_train_csv, DATA_PATH\n",
    "from single_train import N_FOLDS, SEED, set_random_seed\n",
    "from single_test import calculate_scores, calculate_condition_metrics\n",
    "from genetic_algorithm import optimize"
   ],
   "outputs": [
    {
     "name": "stdout",
     "output_type": "stream",
     "text": [
      "Model name: densenet201\n",
      "result dir rsna24-data/models_db/densenet201-DB-c3p1b16e20f14\n"
     ]
    }
   ],
   "execution_count": 1
  },
  {
   "metadata": {
    "ExecuteTime": {
     "end_time": "2024-07-12T15:05:28.194684Z",
     "start_time": "2024-07-12T15:05:28.188251Z"
    }
   },
   "cell_type": "code",
   "source": [
    "db_models_path = \"/home/sadid-dl/PycharmProjects/rsna24-lsdc/rsna24-data/models_db/{}/submission.csv\"\n",
    "models_path = \"/home/sadid-dl/PycharmProjects/rsna24-lsdc/rsna24-data/models/{}/submission.csv\"\n",
    "value_column = [\"normal_mild\", \"moderate\", \"severe\"]"
   ],
   "id": "8d84bed6c4edcbb7",
   "outputs": [],
   "execution_count": 2
  },
  {
   "metadata": {
    "ExecuteTime": {
     "end_time": "2024-07-12T15:05:28.206610Z",
     "start_time": "2024-07-12T15:05:28.197038Z"
    }
   },
   "cell_type": "code",
   "source": "set_random_seed(SEED)",
   "id": "4505ca83185f8b5c",
   "outputs": [],
   "execution_count": 3
  },
  {
   "metadata": {
    "ExecuteTime": {
     "end_time": "2024-07-12T15:05:28.296197Z",
     "start_time": "2024-07-12T15:05:28.207654Z"
    }
   },
   "cell_type": "code",
   "source": "df, solution, _ = read_train_csv(DATA_PATH)",
   "id": "2d80d855133f05c4",
   "outputs": [],
   "execution_count": 4
  },
  {
   "metadata": {
    "ExecuteTime": {
     "end_time": "2024-07-12T15:05:28.302863Z",
     "start_time": "2024-07-12T15:05:28.296886Z"
    }
   },
   "cell_type": "code",
   "source": [
    "skf = KFold(n_splits=N_FOLDS, shuffle=True, random_state=SEED)\n",
    "train_desc = pd.read_csv(DATA_PATH / \"train_series_descriptions.csv\")\n",
    "\n",
    "study_ids = np.array(df.study_id.unique())\n",
    "scores = []\n",
    "val_study_id = []\n",
    "\n",
    "for fold, (trn_idx, val_idx) in enumerate(skf.split(range(len(study_ids)))):\n",
    "    if fold != 0:\n",
    "        continue\n",
    "    print(f\"Test fold {fold}\")\n",
    "    print(\"train size\", len(trn_idx), \"test size\", len(val_idx))\n",
    "    val_study_id = study_ids[val_idx]\n"
   ],
   "id": "659368f48792e678",
   "outputs": [
    {
     "name": "stdout",
     "output_type": "stream",
     "text": [
      "Test fold 0\n",
      "train size 1833 test size 141\n"
     ]
    }
   ],
   "execution_count": 5
  },
  {
   "metadata": {
    "ExecuteTime": {
     "end_time": "2024-07-12T15:05:28.315680Z",
     "start_time": "2024-07-12T15:05:28.303509Z"
    }
   },
   "cell_type": "code",
   "source": [
    "fold_sol = solution.loc[solution.study_id.isin(val_study_id)].sort_values(by=\"row_id\").reset_index(drop=True)\n",
    "spinal_canal = fold_sol.row_id.str.contains(\"spinal_canal\")\n",
    "neural_foraminal = fold_sol.row_id.str.contains(\"neural_foraminal\")\n",
    "subarticular = fold_sol.row_id.str.contains(\"subarticular\")\n",
    "fold_sol = fold_sol[[\"row_id\", \"normal_mild\", \"moderate\", \"severe\", \"sample_weight\"]]\n",
    "print(\"total spinal\", spinal_canal.sum(), \"total sub\", subarticular.sum(), \"total neural\", neural_foraminal.sum())\n",
    "print(\"total normal_mild\", fold_sol[\"normal_mild\"].sum(), \"total moderate\", fold_sol[\"moderate\"].sum(), \"total severe\", fold_sol[\"severe\"].sum())\n",
    "fold_sol.shape"
   ],
   "id": "cb3058d212408ae7",
   "outputs": [
    {
     "name": "stdout",
     "output_type": "stream",
     "text": [
      "total spinal 705 total sub 1410 total neural 1410\n",
      "total normal_mild 2646.0 total moderate 598.0 total severe 281.0\n"
     ]
    },
    {
     "data": {
      "text/plain": [
       "(3525, 5)"
      ]
     },
     "execution_count": 6,
     "metadata": {},
     "output_type": "execute_result"
    }
   ],
   "execution_count": 6
  },
  {
   "metadata": {
    "ExecuteTime": {
     "end_time": "2024-07-12T15:05:28.324369Z",
     "start_time": "2024-07-12T15:05:28.316265Z"
    }
   },
   "cell_type": "code",
   "source": "fold_sol.head()",
   "id": "8f904d6a983067e7",
   "outputs": [
    {
     "data": {
      "text/plain": [
       "                                             row_id  normal_mild  moderate  \\\n",
       "0  1004726367_left_neural_foraminal_narrowing_l1_l2          1.0       0.0   \n",
       "1  1004726367_left_neural_foraminal_narrowing_l2_l3          1.0       0.0   \n",
       "2  1004726367_left_neural_foraminal_narrowing_l3_l4          1.0       0.0   \n",
       "3  1004726367_left_neural_foraminal_narrowing_l4_l5          1.0       0.0   \n",
       "4  1004726367_left_neural_foraminal_narrowing_l5_s1          1.0       0.0   \n",
       "\n",
       "   severe  sample_weight  \n",
       "0     0.0            1.0  \n",
       "1     0.0            1.0  \n",
       "2     0.0            1.0  \n",
       "3     0.0            1.0  \n",
       "4     0.0            1.0  "
      ],
      "text/html": [
       "<div>\n",
       "<style scoped>\n",
       "    .dataframe tbody tr th:only-of-type {\n",
       "        vertical-align: middle;\n",
       "    }\n",
       "\n",
       "    .dataframe tbody tr th {\n",
       "        vertical-align: top;\n",
       "    }\n",
       "\n",
       "    .dataframe thead th {\n",
       "        text-align: right;\n",
       "    }\n",
       "</style>\n",
       "<table border=\"1\" class=\"dataframe\">\n",
       "  <thead>\n",
       "    <tr style=\"text-align: right;\">\n",
       "      <th></th>\n",
       "      <th>row_id</th>\n",
       "      <th>normal_mild</th>\n",
       "      <th>moderate</th>\n",
       "      <th>severe</th>\n",
       "      <th>sample_weight</th>\n",
       "    </tr>\n",
       "  </thead>\n",
       "  <tbody>\n",
       "    <tr>\n",
       "      <th>0</th>\n",
       "      <td>1004726367_left_neural_foraminal_narrowing_l1_l2</td>\n",
       "      <td>1.0</td>\n",
       "      <td>0.0</td>\n",
       "      <td>0.0</td>\n",
       "      <td>1.0</td>\n",
       "    </tr>\n",
       "    <tr>\n",
       "      <th>1</th>\n",
       "      <td>1004726367_left_neural_foraminal_narrowing_l2_l3</td>\n",
       "      <td>1.0</td>\n",
       "      <td>0.0</td>\n",
       "      <td>0.0</td>\n",
       "      <td>1.0</td>\n",
       "    </tr>\n",
       "    <tr>\n",
       "      <th>2</th>\n",
       "      <td>1004726367_left_neural_foraminal_narrowing_l3_l4</td>\n",
       "      <td>1.0</td>\n",
       "      <td>0.0</td>\n",
       "      <td>0.0</td>\n",
       "      <td>1.0</td>\n",
       "    </tr>\n",
       "    <tr>\n",
       "      <th>3</th>\n",
       "      <td>1004726367_left_neural_foraminal_narrowing_l4_l5</td>\n",
       "      <td>1.0</td>\n",
       "      <td>0.0</td>\n",
       "      <td>0.0</td>\n",
       "      <td>1.0</td>\n",
       "    </tr>\n",
       "    <tr>\n",
       "      <th>4</th>\n",
       "      <td>1004726367_left_neural_foraminal_narrowing_l5_s1</td>\n",
       "      <td>1.0</td>\n",
       "      <td>0.0</td>\n",
       "      <td>0.0</td>\n",
       "      <td>1.0</td>\n",
       "    </tr>\n",
       "  </tbody>\n",
       "</table>\n",
       "</div>"
      ]
     },
     "execution_count": 7,
     "metadata": {},
     "output_type": "execute_result"
    }
   ],
   "execution_count": 7
  },
  {
   "metadata": {},
   "cell_type": "markdown",
   "source": "# Best accuracy for each conditions",
   "id": "d557bc1e105329ae"
  },
  {
   "metadata": {},
   "cell_type": "markdown",
   "source": "## best spinal canal accuracy",
   "id": "aa17b881f3b2c468"
  },
  {
   "metadata": {
    "ExecuteTime": {
     "end_time": "2024-07-12T15:05:28.360149Z",
     "start_time": "2024-07-12T15:05:28.324976Z"
    }
   },
   "cell_type": "code",
   "source": [
    "sub_densenet201_db = pd.read_csv(db_models_path.format(\"densenet201-DB-c3p1b16e20f14\"))\n",
    "accuracy, precision, cm, s = calculate_scores(sub_densenet201_db, fold_sol)\n",
    "print(accuracy, precision, s)\n",
    "cm"
   ],
   "id": "3502d6db4eb86175",
   "outputs": [
    {
     "name": "stdout",
     "output_type": "stream",
     "text": [
      "0.6473758865248227 0.5986632130352175 0.7795870031833588\n"
     ]
    },
    {
     "data": {
      "text/plain": [
       "array([[1908,  611,  127],\n",
       "       [ 238,  279,   81],\n",
       "       [  70,  116,   95]])"
      ]
     },
     "execution_count": 8,
     "metadata": {},
     "output_type": "execute_result"
    }
   ],
   "execution_count": 8
  },
  {
   "metadata": {
    "ExecuteTime": {
     "end_time": "2024-07-12T15:05:28.367931Z",
     "start_time": "2024-07-12T15:05:28.360737Z"
    }
   },
   "cell_type": "code",
   "source": [
    "accuracy, cm = calculate_condition_metrics(fold_sol, sub_densenet201_db, \"spinal_canal\", True)\n",
    "print(accuracy)\n",
    "cm"
   ],
   "id": "1287793103c7ef22",
   "outputs": [
    {
     "name": "stdout",
     "output_type": "stream",
     "text": [
      "0.8156028368794326\n"
     ]
    },
    {
     "data": {
      "text/plain": [
       "array([[564,   0,  41],\n",
       "       [ 48,   0,   5],\n",
       "       [ 36,   0,  11]])"
      ]
     },
     "execution_count": 9,
     "metadata": {},
     "output_type": "execute_result"
    }
   ],
   "execution_count": 9
  },
  {
   "metadata": {
    "ExecuteTime": {
     "end_time": "2024-07-12T15:05:28.371895Z",
     "start_time": "2024-07-12T15:05:28.369216Z"
    }
   },
   "cell_type": "code",
   "source": [
    "# (cm[0][0] / (cm[1][0] + cm[2][0]) / 3), (cm[1][1] / (cm[0][1] + cm[2][1]) * 2), (cm[2][2] / (cm[1][2] + cm[0][2]) * 4)\n",
    "print((cm[0][0] + cm[1][1] + cm[2][2])  / np.sum(cm))\n",
    "(cm[0][1] + cm[1][0] + cm[2][0] + cm[0][2] + cm[1][2] + cm[2][1])  / np.sum(cm)"
   ],
   "id": "7ec927e44b8ab3cb",
   "outputs": [
    {
     "name": "stdout",
     "output_type": "stream",
     "text": [
      "0.8156028368794326\n"
     ]
    },
    {
     "data": {
      "text/plain": [
       "0.18439716312056736"
      ]
     },
     "execution_count": 10,
     "metadata": {},
     "output_type": "execute_result"
    }
   ],
   "execution_count": 10
  },
  {
   "metadata": {
    "ExecuteTime": {
     "end_time": "2024-07-12T15:05:28.641542Z",
     "start_time": "2024-07-12T15:05:28.372443Z"
    }
   },
   "cell_type": "code",
   "source": "optimize(fold_sol, sub_densenet201_db, \"spinal_canal\", value_column, population_size=10, n_generations=5, mutation_rate=0.1)",
   "id": "1cc1cce97fba2fe3",
   "outputs": [
    {
     "name": "stderr",
     "output_type": "stream",
     "text": [
      "100%|██████████| 5/5 [00:00<00:00, 20.03it/s]"
     ]
    },
    {
     "name": "stdout",
     "output_type": "stream",
     "text": [
      "Best individual: [0.71553492 0.19971297 0.22479222]\n",
      "Best fitness: -0.8581560283687943\n",
      "Accuracy 0.8581560283687943\n"
     ]
    },
    {
     "name": "stderr",
     "output_type": "stream",
     "text": [
      "\n"
     ]
    },
    {
     "data": {
      "text/plain": [
       "array([[605,   0,   0],\n",
       "       [ 53,   0,   0],\n",
       "       [ 47,   0,   0]])"
      ]
     },
     "execution_count": 11,
     "metadata": {},
     "output_type": "execute_result"
    }
   ],
   "execution_count": 11
  },
  {
   "metadata": {},
   "cell_type": "markdown",
   "source": "## best subarticular accuracy",
   "id": "2ef2a0f7a945ab76"
  },
  {
   "metadata": {
    "ExecuteTime": {
     "end_time": "2024-07-12T15:05:28.671241Z",
     "start_time": "2024-07-12T15:05:28.642175Z"
    }
   },
   "cell_type": "code",
   "source": [
    "sub_densenet161 = pd.read_csv(models_path.format(\"densenet161-c3p1b16e20f14\"))\n",
    "accuracy, precision, cm, s = calculate_scores(sub_densenet161, fold_sol)\n",
    "print(accuracy, precision, s)\n",
    "cm"
   ],
   "id": "47538a674327144a",
   "outputs": [
    {
     "name": "stdout",
     "output_type": "stream",
     "text": [
      "0.7407092198581561 0.6008971489931029 0.7810797800373651\n"
     ]
    },
    {
     "data": {
      "text/plain": [
       "array([[2349,  191,  106],\n",
       "       [ 380,  185,   33],\n",
       "       [ 109,   95,   77]])"
      ]
     },
     "execution_count": 12,
     "metadata": {},
     "output_type": "execute_result"
    }
   ],
   "execution_count": 12
  },
  {
   "metadata": {
    "ExecuteTime": {
     "end_time": "2024-07-12T15:05:28.679157Z",
     "start_time": "2024-07-12T15:05:28.671844Z"
    }
   },
   "cell_type": "code",
   "source": [
    "accuracy, cm = calculate_condition_metrics(fold_sol, sub_densenet161, \"subarticular\", True)\n",
    "print(accuracy)\n",
    "cm"
   ],
   "id": "51884dd3b6417b3d",
   "outputs": [
    {
     "name": "stdout",
     "output_type": "stream",
     "text": [
      "0.7127659574468085\n"
     ]
    },
    {
     "data": {
      "text/plain": [
       "array([[898,  55,  22],\n",
       "       [191,  65,  12],\n",
       "       [ 82,  43,  42]])"
      ]
     },
     "execution_count": 13,
     "metadata": {},
     "output_type": "execute_result"
    }
   ],
   "execution_count": 13
  },
  {
   "metadata": {
    "ExecuteTime": {
     "end_time": "2024-07-12T15:05:33.566773Z",
     "start_time": "2024-07-12T15:05:28.679712Z"
    }
   },
   "cell_type": "code",
   "source": "optimize(fold_sol, sub_densenet161, \"subarticular\", value_column, population_size=50, n_generations=20, mutation_rate=0.1)",
   "id": "2885cf4a5b3730bf",
   "outputs": [
    {
     "name": "stderr",
     "output_type": "stream",
     "text": [
      "100%|██████████| 20/20 [00:04<00:00,  4.10it/s]"
     ]
    },
    {
     "name": "stdout",
     "output_type": "stream",
     "text": [
      "Best individual: [0.80735625 0.4546022  0.47419877]\n",
      "Best fitness: -0.7205673758865249\n",
      "Accuracy 0.7205673758865249\n"
     ]
    },
    {
     "name": "stderr",
     "output_type": "stream",
     "text": [
      "\n"
     ]
    },
    {
     "data": {
      "text/plain": [
       "array([[953,   9,  13],\n",
       "       [234,  23,  11],\n",
       "       [119,   8,  40]])"
      ]
     },
     "execution_count": 14,
     "metadata": {},
     "output_type": "execute_result"
    }
   ],
   "execution_count": 14
  },
  {
   "metadata": {},
   "cell_type": "markdown",
   "source": "## best neural foraminal accuracy",
   "id": "c08ca1deb99fdb11"
  },
  {
   "metadata": {
    "ExecuteTime": {
     "end_time": "2024-07-12T15:05:33.596053Z",
     "start_time": "2024-07-12T15:05:33.567543Z"
    }
   },
   "cell_type": "code",
   "source": [
    "sub_xception41_db = pd.read_csv(models_path.format(\"xception41-c3p1b16e20f14\"))\n",
    "accuracy, precision, cm, s = calculate_scores(sub_xception41_db, fold_sol)\n",
    "print(accuracy, precision, s)\n",
    "cm"
   ],
   "id": "e5e1b509c1e0fd54",
   "outputs": [
    {
     "name": "stdout",
     "output_type": "stream",
     "text": [
      "0.7438297872340426 0.6343239731631869 0.7230042625644407\n"
     ]
    },
    {
     "data": {
      "text/plain": [
       "array([[2294,  154,  198],\n",
       "       [ 307,  197,   94],\n",
       "       [  74,   76,  131]])"
      ]
     },
     "execution_count": 15,
     "metadata": {},
     "output_type": "execute_result"
    }
   ],
   "execution_count": 15
  },
  {
   "metadata": {
    "ExecuteTime": {
     "end_time": "2024-07-12T15:05:33.604111Z",
     "start_time": "2024-07-12T15:05:33.596688Z"
    }
   },
   "cell_type": "code",
   "source": [
    "accuracy, cm = calculate_condition_metrics(fold_sol, sub_xception41_db, \"neural_foraminal\", True)\n",
    "print(accuracy)\n",
    "cm"
   ],
   "id": "b9929f3efd4b5c8c",
   "outputs": [
    {
     "name": "stdout",
     "output_type": "stream",
     "text": [
      "0.7978723404255319\n"
     ]
    },
    {
     "data": {
      "text/plain": [
       "array([[972,  86,   8],\n",
       "       [135, 128,  14],\n",
       "       [ 10,  32,  25]])"
      ]
     },
     "execution_count": 16,
     "metadata": {},
     "output_type": "execute_result"
    }
   ],
   "execution_count": 16
  },
  {
   "metadata": {
    "ExecuteTime": {
     "end_time": "2024-07-12T15:05:38.519808Z",
     "start_time": "2024-07-12T15:05:33.604649Z"
    }
   },
   "cell_type": "code",
   "source": "optimize(fold_sol, sub_xception41_db, \"neural_foraminal\", value_column, population_size=50, n_generations=20, mutation_rate=0.1)",
   "id": "df10b4d7b1548978",
   "outputs": [
    {
     "name": "stderr",
     "output_type": "stream",
     "text": [
      "100%|██████████| 20/20 [00:04<00:00,  4.08it/s]"
     ]
    },
    {
     "name": "stdout",
     "output_type": "stream",
     "text": [
      "Best individual: [0.89500223 0.90110027 0.88358764]\n",
      "Best fitness: -0.798581560283688\n",
      "Accuracy 0.798581560283688\n"
     ]
    },
    {
     "name": "stderr",
     "output_type": "stream",
     "text": [
      "\n"
     ]
    },
    {
     "data": {
      "text/plain": [
       "array([[969,  89,   8],\n",
       "       [131, 133,  13],\n",
       "       [ 10,  33,  24]])"
      ]
     },
     "execution_count": 17,
     "metadata": {},
     "output_type": "execute_result"
    }
   ],
   "execution_count": 17
  },
  {
   "metadata": {},
   "cell_type": "markdown",
   "source": "# combine the result",
   "id": "af22cbd9f060fb5d"
  },
  {
   "metadata": {
    "ExecuteTime": {
     "end_time": "2024-07-12T15:12:25.063462Z",
     "start_time": "2024-07-12T15:12:25.033089Z"
    }
   },
   "cell_type": "code",
   "source": [
    "sub_spinal_canal = sub_densenet201_db.loc[sub_densenet201_db.row_id.str.contains(\"spinal_canal\")]\n",
    "sub_subarticular = sub_densenet161.loc[sub_densenet161.row_id.str.contains(\"subarticular\")]\n",
    "sub_neural_foraminal = sub_xception41_db.loc[sub_xception41_db.row_id.str.contains(\"neural_foraminal\")]\n",
    "\n",
    "sub = pd.concat([sub_spinal_canal, sub_neural_foraminal, sub_subarticular], axis=0)\n",
    "accuracy, precision, cm, s = calculate_scores(sub, fold_sol)\n",
    "print(accuracy, precision, s)\n",
    "cm"
   ],
   "id": "7b1203ee385c38b9",
   "outputs": [
    {
     "name": "stdout",
     "output_type": "stream",
     "text": [
      "0.7673758865248227 0.6312593392808913 0.7756013553017106\n"
     ]
    },
    {
     "data": {
      "text/plain": [
       "array([[2434,  141,   71],\n",
       "       [ 374,  193,   31],\n",
       "       [ 128,   75,   78]])"
      ]
     },
     "execution_count": 25,
     "metadata": {},
     "output_type": "execute_result"
    }
   ],
   "execution_count": 25
  },
  {
   "metadata": {},
   "cell_type": "markdown",
   "source": "# Generating output from the best coefficient",
   "id": "a2935ab774c29878"
  },
  {
   "metadata": {
    "ExecuteTime": {
     "end_time": "2024-07-12T15:13:13.061001Z",
     "start_time": "2024-07-12T15:13:13.031746Z"
    }
   },
   "cell_type": "code",
   "source": [
    "sub_spinal_canal = sub_densenet201_db.loc[sub_densenet201_db.row_id.str.contains(\"spinal_canal\")].copy()\n",
    "sub_subarticular = sub_densenet161.loc[sub_densenet161.row_id.str.contains(\"subarticular\")].copy()\n",
    "sub_neural_foraminal = sub_xception41_db.loc[sub_xception41_db.row_id.str.contains(\"neural_foraminal\")].copy()\n",
    "\n",
    "spinal_canal_coef = [0.71553492, 0.19971297, 0.22479222]\n",
    "subarticular_coef = [0.80735625, 0.4546022, 0.47419877]\n",
    "neural_foraminal_coef = [0.89500223, 0.90110027, 0.88358764]\n",
    "\n",
    "sub_spinal_canal[value_column] = sub_spinal_canal[value_column].values * spinal_canal_coef\n",
    "sub_subarticular[value_column] = sub_subarticular[value_column].values * subarticular_coef\n",
    "sub_neural_foraminal[value_column] = sub_neural_foraminal[value_column].values * neural_foraminal_coef\n",
    "\n",
    "sub = pd.concat([sub_spinal_canal, sub_neural_foraminal, sub_subarticular], axis=0)\n",
    "accuracy, precision, cm, s = calculate_scores(sub, fold_sol)\n",
    "print(accuracy, precision, s)\n",
    "cm"
   ],
   "id": "4ab0fdd7887f080d",
   "outputs": [
    {
     "name": "stdout",
     "output_type": "stream",
     "text": [
      "0.7792907801418439 0.6485962488160577 0.9269087789124617\n"
     ]
    },
    {
     "data": {
      "text/plain": [
       "array([[2527,   98,   21],\n",
       "       [ 418,  156,   24],\n",
       "       [ 176,   41,   64]])"
      ]
     },
     "execution_count": 26,
     "metadata": {},
     "output_type": "execute_result"
    }
   ],
   "execution_count": 26
  },
  {
   "metadata": {
    "ExecuteTime": {
     "end_time": "2024-07-12T15:43:50.861386Z",
     "start_time": "2024-07-12T15:43:50.855053Z"
    }
   },
   "cell_type": "code",
   "source": "print(calculate_condition_metrics(fold_sol, sub))",
   "id": "ee3fe7177c37540e",
   "outputs": [
    {
     "name": "stdout",
     "output_type": "stream",
     "text": [
      "accuracy 0.7792907801418439 \n",
      "normal   c/w 4.254 acc 0.955\n",
      "moderate c/w 1.122 acc 0.261 \n",
      "severe   c/w 1.422 acc 0.228\n"
     ]
    }
   ],
   "execution_count": 28
  },
  {
   "metadata": {},
   "cell_type": "markdown",
   "source": "# Improving Spinal Canal",
   "id": "6774e498b3b859cc"
  },
  {
   "metadata": {
    "ExecuteTime": {
     "end_time": "2024-07-12T15:05:42.292843Z",
     "start_time": "2024-07-12T15:05:42.284836Z"
    }
   },
   "cell_type": "code",
   "source": [
    "sub_densenet201_db = pd.read_csv(db_models_path.format(\"densenet201-DB-c3p1b16e20f14\"))\n",
    "sub_densenet201_db.head()"
   ],
   "id": "4b8ee6bf5d6886d3",
   "outputs": [
    {
     "data": {
      "text/plain": [
       "                                             row_id  normal_mild  moderate  \\\n",
       "0  1004726367_left_neural_foraminal_narrowing_l1_l2     0.872883  0.110750   \n",
       "1  1004726367_left_neural_foraminal_narrowing_l2_l3     0.756032  0.219034   \n",
       "2  1004726367_left_neural_foraminal_narrowing_l3_l4     0.492753  0.388327   \n",
       "3  1004726367_left_neural_foraminal_narrowing_l4_l5     0.353325  0.381960   \n",
       "4  1004726367_left_neural_foraminal_narrowing_l5_s1     0.300521  0.415248   \n",
       "\n",
       "     severe  \n",
       "0  0.016367  \n",
       "1  0.024934  \n",
       "2  0.118920  \n",
       "3  0.264715  \n",
       "4  0.284231  "
      ],
      "text/html": [
       "<div>\n",
       "<style scoped>\n",
       "    .dataframe tbody tr th:only-of-type {\n",
       "        vertical-align: middle;\n",
       "    }\n",
       "\n",
       "    .dataframe tbody tr th {\n",
       "        vertical-align: top;\n",
       "    }\n",
       "\n",
       "    .dataframe thead th {\n",
       "        text-align: right;\n",
       "    }\n",
       "</style>\n",
       "<table border=\"1\" class=\"dataframe\">\n",
       "  <thead>\n",
       "    <tr style=\"text-align: right;\">\n",
       "      <th></th>\n",
       "      <th>row_id</th>\n",
       "      <th>normal_mild</th>\n",
       "      <th>moderate</th>\n",
       "      <th>severe</th>\n",
       "    </tr>\n",
       "  </thead>\n",
       "  <tbody>\n",
       "    <tr>\n",
       "      <th>0</th>\n",
       "      <td>1004726367_left_neural_foraminal_narrowing_l1_l2</td>\n",
       "      <td>0.872883</td>\n",
       "      <td>0.110750</td>\n",
       "      <td>0.016367</td>\n",
       "    </tr>\n",
       "    <tr>\n",
       "      <th>1</th>\n",
       "      <td>1004726367_left_neural_foraminal_narrowing_l2_l3</td>\n",
       "      <td>0.756032</td>\n",
       "      <td>0.219034</td>\n",
       "      <td>0.024934</td>\n",
       "    </tr>\n",
       "    <tr>\n",
       "      <th>2</th>\n",
       "      <td>1004726367_left_neural_foraminal_narrowing_l3_l4</td>\n",
       "      <td>0.492753</td>\n",
       "      <td>0.388327</td>\n",
       "      <td>0.118920</td>\n",
       "    </tr>\n",
       "    <tr>\n",
       "      <th>3</th>\n",
       "      <td>1004726367_left_neural_foraminal_narrowing_l4_l5</td>\n",
       "      <td>0.353325</td>\n",
       "      <td>0.381960</td>\n",
       "      <td>0.264715</td>\n",
       "    </tr>\n",
       "    <tr>\n",
       "      <th>4</th>\n",
       "      <td>1004726367_left_neural_foraminal_narrowing_l5_s1</td>\n",
       "      <td>0.300521</td>\n",
       "      <td>0.415248</td>\n",
       "      <td>0.284231</td>\n",
       "    </tr>\n",
       "  </tbody>\n",
       "</table>\n",
       "</div>"
      ]
     },
     "execution_count": 21,
     "metadata": {},
     "output_type": "execute_result"
    }
   ],
   "execution_count": 21
  },
  {
   "metadata": {
    "ExecuteTime": {
     "end_time": "2024-07-12T15:05:42.302423Z",
     "start_time": "2024-07-12T15:05:42.293386Z"
    }
   },
   "cell_type": "code",
   "source": [
    "sub_efficientnet_b0_db = pd.read_csv(db_models_path.format(\"efficientnet_b0-DB-c3p1b16e20f14\"))\n",
    "sub_efficientnet_b0_db.head()"
   ],
   "id": "68b812172d50a0d5",
   "outputs": [
    {
     "data": {
      "text/plain": [
       "                                             row_id  normal_mild  moderate  \\\n",
       "0  1004726367_left_neural_foraminal_narrowing_l1_l2     0.776178  0.164194   \n",
       "1  1004726367_left_neural_foraminal_narrowing_l2_l3     0.745312  0.187615   \n",
       "2  1004726367_left_neural_foraminal_narrowing_l3_l4     0.620880  0.313907   \n",
       "3  1004726367_left_neural_foraminal_narrowing_l4_l5     0.509696  0.325105   \n",
       "4  1004726367_left_neural_foraminal_narrowing_l5_s1     0.513971  0.253372   \n",
       "\n",
       "     severe  \n",
       "0  0.059629  \n",
       "1  0.067073  \n",
       "2  0.065213  \n",
       "3  0.165199  \n",
       "4  0.232657  "
      ],
      "text/html": [
       "<div>\n",
       "<style scoped>\n",
       "    .dataframe tbody tr th:only-of-type {\n",
       "        vertical-align: middle;\n",
       "    }\n",
       "\n",
       "    .dataframe tbody tr th {\n",
       "        vertical-align: top;\n",
       "    }\n",
       "\n",
       "    .dataframe thead th {\n",
       "        text-align: right;\n",
       "    }\n",
       "</style>\n",
       "<table border=\"1\" class=\"dataframe\">\n",
       "  <thead>\n",
       "    <tr style=\"text-align: right;\">\n",
       "      <th></th>\n",
       "      <th>row_id</th>\n",
       "      <th>normal_mild</th>\n",
       "      <th>moderate</th>\n",
       "      <th>severe</th>\n",
       "    </tr>\n",
       "  </thead>\n",
       "  <tbody>\n",
       "    <tr>\n",
       "      <th>0</th>\n",
       "      <td>1004726367_left_neural_foraminal_narrowing_l1_l2</td>\n",
       "      <td>0.776178</td>\n",
       "      <td>0.164194</td>\n",
       "      <td>0.059629</td>\n",
       "    </tr>\n",
       "    <tr>\n",
       "      <th>1</th>\n",
       "      <td>1004726367_left_neural_foraminal_narrowing_l2_l3</td>\n",
       "      <td>0.745312</td>\n",
       "      <td>0.187615</td>\n",
       "      <td>0.067073</td>\n",
       "    </tr>\n",
       "    <tr>\n",
       "      <th>2</th>\n",
       "      <td>1004726367_left_neural_foraminal_narrowing_l3_l4</td>\n",
       "      <td>0.620880</td>\n",
       "      <td>0.313907</td>\n",
       "      <td>0.065213</td>\n",
       "    </tr>\n",
       "    <tr>\n",
       "      <th>3</th>\n",
       "      <td>1004726367_left_neural_foraminal_narrowing_l4_l5</td>\n",
       "      <td>0.509696</td>\n",
       "      <td>0.325105</td>\n",
       "      <td>0.165199</td>\n",
       "    </tr>\n",
       "    <tr>\n",
       "      <th>4</th>\n",
       "      <td>1004726367_left_neural_foraminal_narrowing_l5_s1</td>\n",
       "      <td>0.513971</td>\n",
       "      <td>0.253372</td>\n",
       "      <td>0.232657</td>\n",
       "    </tr>\n",
       "  </tbody>\n",
       "</table>\n",
       "</div>"
      ]
     },
     "execution_count": 22,
     "metadata": {},
     "output_type": "execute_result"
    }
   ],
   "execution_count": 22
  },
  {
   "metadata": {
    "ExecuteTime": {
     "end_time": "2024-07-12T15:05:42.312570Z",
     "start_time": "2024-07-12T15:05:42.303081Z"
    }
   },
   "cell_type": "code",
   "source": [
    "sub_efficient_b2_db = pd.read_csv(db_models_path.format(\"efficientnet_b2-DB-c3p1b16e20f14\"))\n",
    "sub_efficient_b2_db.head()"
   ],
   "id": "182e472a34d59ec2",
   "outputs": [
    {
     "data": {
      "text/plain": [
       "                                             row_id  normal_mild  moderate  \\\n",
       "0  1004726367_left_neural_foraminal_narrowing_l1_l2     0.701110  0.174540   \n",
       "1  1004726367_left_neural_foraminal_narrowing_l2_l3     0.776450  0.192427   \n",
       "2  1004726367_left_neural_foraminal_narrowing_l3_l4     0.667420  0.271560   \n",
       "3  1004726367_left_neural_foraminal_narrowing_l4_l5     0.652590  0.232052   \n",
       "4  1004726367_left_neural_foraminal_narrowing_l5_s1     0.481094  0.299677   \n",
       "\n",
       "     severe  \n",
       "0  0.124351  \n",
       "1  0.031124  \n",
       "2  0.061020  \n",
       "3  0.115359  \n",
       "4  0.219229  "
      ],
      "text/html": [
       "<div>\n",
       "<style scoped>\n",
       "    .dataframe tbody tr th:only-of-type {\n",
       "        vertical-align: middle;\n",
       "    }\n",
       "\n",
       "    .dataframe tbody tr th {\n",
       "        vertical-align: top;\n",
       "    }\n",
       "\n",
       "    .dataframe thead th {\n",
       "        text-align: right;\n",
       "    }\n",
       "</style>\n",
       "<table border=\"1\" class=\"dataframe\">\n",
       "  <thead>\n",
       "    <tr style=\"text-align: right;\">\n",
       "      <th></th>\n",
       "      <th>row_id</th>\n",
       "      <th>normal_mild</th>\n",
       "      <th>moderate</th>\n",
       "      <th>severe</th>\n",
       "    </tr>\n",
       "  </thead>\n",
       "  <tbody>\n",
       "    <tr>\n",
       "      <th>0</th>\n",
       "      <td>1004726367_left_neural_foraminal_narrowing_l1_l2</td>\n",
       "      <td>0.701110</td>\n",
       "      <td>0.174540</td>\n",
       "      <td>0.124351</td>\n",
       "    </tr>\n",
       "    <tr>\n",
       "      <th>1</th>\n",
       "      <td>1004726367_left_neural_foraminal_narrowing_l2_l3</td>\n",
       "      <td>0.776450</td>\n",
       "      <td>0.192427</td>\n",
       "      <td>0.031124</td>\n",
       "    </tr>\n",
       "    <tr>\n",
       "      <th>2</th>\n",
       "      <td>1004726367_left_neural_foraminal_narrowing_l3_l4</td>\n",
       "      <td>0.667420</td>\n",
       "      <td>0.271560</td>\n",
       "      <td>0.061020</td>\n",
       "    </tr>\n",
       "    <tr>\n",
       "      <th>3</th>\n",
       "      <td>1004726367_left_neural_foraminal_narrowing_l4_l5</td>\n",
       "      <td>0.652590</td>\n",
       "      <td>0.232052</td>\n",
       "      <td>0.115359</td>\n",
       "    </tr>\n",
       "    <tr>\n",
       "      <th>4</th>\n",
       "      <td>1004726367_left_neural_foraminal_narrowing_l5_s1</td>\n",
       "      <td>0.481094</td>\n",
       "      <td>0.299677</td>\n",
       "      <td>0.219229</td>\n",
       "    </tr>\n",
       "  </tbody>\n",
       "</table>\n",
       "</div>"
      ]
     },
     "execution_count": 23,
     "metadata": {},
     "output_type": "execute_result"
    }
   ],
   "execution_count": 23
  },
  {
   "metadata": {
    "ExecuteTime": {
     "end_time": "2024-07-12T15:05:42.319462Z",
     "start_time": "2024-07-12T15:05:42.313171Z"
    }
   },
   "cell_type": "code",
   "source": [
    "values = (sub_densenet201_db[value_column].values * 0.4) + (sub_efficientnet_b0_db[value_column].values * 0.3) + (sub_efficient_b2_db[value_column] * 0.2)\n",
    "sub = sub_efficient_b2_db.copy()\n",
    "sub[value_column] = values\n",
    "sub.head()"
   ],
   "id": "1dab8a659cd52e58",
   "outputs": [
    {
     "data": {
      "text/plain": [
       "                                             row_id  normal_mild  moderate  \\\n",
       "0  1004726367_left_neural_foraminal_narrowing_l1_l2     0.722228  0.128466   \n",
       "1  1004726367_left_neural_foraminal_narrowing_l2_l3     0.681296  0.182383   \n",
       "2  1004726367_left_neural_foraminal_narrowing_l3_l4     0.516849  0.303815   \n",
       "3  1004726367_left_neural_foraminal_narrowing_l4_l5     0.424757  0.296726   \n",
       "4  1004726367_left_neural_foraminal_narrowing_l5_s1     0.370618  0.302046   \n",
       "\n",
       "     severe  \n",
       "0  0.049305  \n",
       "1  0.036320  \n",
       "2  0.079336  \n",
       "3  0.178517  \n",
       "4  0.227335  "
      ],
      "text/html": [
       "<div>\n",
       "<style scoped>\n",
       "    .dataframe tbody tr th:only-of-type {\n",
       "        vertical-align: middle;\n",
       "    }\n",
       "\n",
       "    .dataframe tbody tr th {\n",
       "        vertical-align: top;\n",
       "    }\n",
       "\n",
       "    .dataframe thead th {\n",
       "        text-align: right;\n",
       "    }\n",
       "</style>\n",
       "<table border=\"1\" class=\"dataframe\">\n",
       "  <thead>\n",
       "    <tr style=\"text-align: right;\">\n",
       "      <th></th>\n",
       "      <th>row_id</th>\n",
       "      <th>normal_mild</th>\n",
       "      <th>moderate</th>\n",
       "      <th>severe</th>\n",
       "    </tr>\n",
       "  </thead>\n",
       "  <tbody>\n",
       "    <tr>\n",
       "      <th>0</th>\n",
       "      <td>1004726367_left_neural_foraminal_narrowing_l1_l2</td>\n",
       "      <td>0.722228</td>\n",
       "      <td>0.128466</td>\n",
       "      <td>0.049305</td>\n",
       "    </tr>\n",
       "    <tr>\n",
       "      <th>1</th>\n",
       "      <td>1004726367_left_neural_foraminal_narrowing_l2_l3</td>\n",
       "      <td>0.681296</td>\n",
       "      <td>0.182383</td>\n",
       "      <td>0.036320</td>\n",
       "    </tr>\n",
       "    <tr>\n",
       "      <th>2</th>\n",
       "      <td>1004726367_left_neural_foraminal_narrowing_l3_l4</td>\n",
       "      <td>0.516849</td>\n",
       "      <td>0.303815</td>\n",
       "      <td>0.079336</td>\n",
       "    </tr>\n",
       "    <tr>\n",
       "      <th>3</th>\n",
       "      <td>1004726367_left_neural_foraminal_narrowing_l4_l5</td>\n",
       "      <td>0.424757</td>\n",
       "      <td>0.296726</td>\n",
       "      <td>0.178517</td>\n",
       "    </tr>\n",
       "    <tr>\n",
       "      <th>4</th>\n",
       "      <td>1004726367_left_neural_foraminal_narrowing_l5_s1</td>\n",
       "      <td>0.370618</td>\n",
       "      <td>0.302046</td>\n",
       "      <td>0.227335</td>\n",
       "    </tr>\n",
       "  </tbody>\n",
       "</table>\n",
       "</div>"
      ]
     },
     "execution_count": 24,
     "metadata": {},
     "output_type": "execute_result"
    }
   ],
   "execution_count": 24
  },
  {
   "metadata": {
    "ExecuteTime": {
     "end_time": "2024-07-12T15:05:42.321297Z",
     "start_time": "2024-07-12T15:05:42.320022Z"
    }
   },
   "cell_type": "code",
   "source": "",
   "id": "3962a2b316431705",
   "outputs": [],
   "execution_count": 24
  }
 ],
 "metadata": {
  "kernelspec": {
   "display_name": "Python 3",
   "language": "python",
   "name": "python3"
  },
  "language_info": {
   "codemirror_mode": {
    "name": "ipython",
    "version": 2
   },
   "file_extension": ".py",
   "mimetype": "text/x-python",
   "name": "python",
   "nbconvert_exporter": "python",
   "pygments_lexer": "ipython2",
   "version": "2.7.6"
  }
 },
 "nbformat": 4,
 "nbformat_minor": 5
}
