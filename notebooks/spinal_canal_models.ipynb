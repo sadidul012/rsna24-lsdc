{
 "cells": [
  {
   "cell_type": "code",
   "id": "initial_id",
   "metadata": {
    "collapsed": true,
    "ExecuteTime": {
     "end_time": "2024-07-17T02:08:00.319695Z",
     "start_time": "2024-07-17T02:07:57.260858Z"
    }
   },
   "source": [
    "import numpy as np\n",
    "import pandas as pd\n",
    "from sklearn.model_selection import KFold\n",
    "from single_dataset import read_train_csv, DATA_PATH\n",
    "from single_train import N_FOLDS, SEED, set_random_seed\n",
    "from single_test import calculate_scores, calculate_condition_metrics\n",
    "from genetic_algorithm import optimize"
   ],
   "outputs": [
    {
     "name": "stdout",
     "output_type": "stream",
     "text": [
      "Model name: densenet201\n",
      "result dir None\n"
     ]
    }
   ],
   "execution_count": 1
  },
  {
   "metadata": {
    "ExecuteTime": {
     "end_time": "2024-07-17T02:08:00.322475Z",
     "start_time": "2024-07-17T02:08:00.320685Z"
    }
   },
   "cell_type": "code",
   "source": [
    "db_models_path = \"/home/sadid-dl/PycharmProjects/rsna24-lsdc/rsna24-data/models_db/{}/submission.csv\"\n",
    "models_path = \"/home/sadid-dl/PycharmProjects/rsna24-lsdc/rsna24-data/models/{}/submission.csv\"\n",
    "value_column = [\"normal_mild\", \"moderate\", \"severe\"]"
   ],
   "id": "9df61524ef730f88",
   "outputs": [],
   "execution_count": 2
  },
  {
   "metadata": {
    "ExecuteTime": {
     "end_time": "2024-07-17T02:08:00.334358Z",
     "start_time": "2024-07-17T02:08:00.323160Z"
    }
   },
   "cell_type": "code",
   "source": "set_random_seed(SEED)",
   "id": "32fc5f26e259e2da",
   "outputs": [],
   "execution_count": 3
  },
  {
   "metadata": {
    "ExecuteTime": {
     "end_time": "2024-07-17T02:08:00.423863Z",
     "start_time": "2024-07-17T02:08:00.335114Z"
    }
   },
   "cell_type": "code",
   "source": "df, solution, _ = read_train_csv(DATA_PATH)",
   "id": "8a7f0db0fb19ce8d",
   "outputs": [],
   "execution_count": 4
  },
  {
   "metadata": {
    "ExecuteTime": {
     "end_time": "2024-07-17T02:08:00.431739Z",
     "start_time": "2024-07-17T02:08:00.424976Z"
    }
   },
   "cell_type": "code",
   "source": [
    "skf = KFold(n_splits=N_FOLDS, shuffle=True, random_state=SEED)\n",
    "train_desc = pd.read_csv(DATA_PATH / \"train_series_descriptions.csv\")\n",
    "\n",
    "study_ids = np.array(df.study_id.unique())\n",
    "scores = []\n",
    "val_study_id = []\n",
    "\n",
    "for fold, (trn_idx, val_idx) in enumerate(skf.split(range(len(study_ids)))):\n",
    "    if fold != 0:\n",
    "        continue\n",
    "\n",
    "    print(f\"Test fold {fold}\")\n",
    "    print(\"train size\", len(trn_idx), \"test size\", len(val_idx))\n",
    "    val_study_id = study_ids[val_idx]"
   ],
   "id": "4f44a081f0c5234",
   "outputs": [
    {
     "name": "stdout",
     "output_type": "stream",
     "text": [
      "Test fold 0\n",
      "train size 1833 test size 141\n"
     ]
    }
   ],
   "execution_count": 5
  },
  {
   "metadata": {
    "ExecuteTime": {
     "end_time": "2024-07-17T02:08:00.442477Z",
     "start_time": "2024-07-17T02:08:00.432490Z"
    }
   },
   "cell_type": "code",
   "source": [
    "fold_sol = solution.loc[solution.study_id.isin(val_study_id)].sort_values(by=\"row_id\").reset_index(drop=True)\n",
    "spinal_canal = fold_sol.row_id.str.contains(\"spinal_canal\")\n",
    "neural_foraminal = fold_sol.row_id.str.contains(\"neural_foraminal\")\n",
    "subarticular = fold_sol.row_id.str.contains(\"subarticular\")\n",
    "fold_sol = fold_sol[[\"row_id\", \"normal_mild\", \"moderate\", \"severe\", \"sample_weight\"]]\n",
    "print(\"total spinal\", spinal_canal.sum(), \"total sub\", subarticular.sum(), \"total neural\", neural_foraminal.sum())\n",
    "print(\"total normal_mild\", fold_sol[\"normal_mild\"].sum(), \"total moderate\", fold_sol[\"moderate\"].sum(), \"total severe\", fold_sol[\"severe\"].sum())\n",
    "fold_sol.shape"
   ],
   "id": "ee3604ba8d126d87",
   "outputs": [
    {
     "name": "stdout",
     "output_type": "stream",
     "text": [
      "total spinal 705 total sub 1410 total neural 1410\n",
      "total normal_mild 2646.0 total moderate 598.0 total severe 281.0\n"
     ]
    },
    {
     "data": {
      "text/plain": [
       "(3525, 5)"
      ]
     },
     "execution_count": 6,
     "metadata": {},
     "output_type": "execute_result"
    }
   ],
   "execution_count": 6
  },
  {
   "metadata": {
    "ExecuteTime": {
     "end_time": "2024-07-17T02:08:00.471375Z",
     "start_time": "2024-07-17T02:08:00.443099Z"
    }
   },
   "cell_type": "code",
   "source": [
    "sub_densenet201_db = pd.read_csv(db_models_path.format(\"densenet201-DB-c3p1b16e20f14\"))\n",
    "accuracy, precision, cm, s = calculate_scores(sub_densenet201_db, fold_sol)\n",
    "print(accuracy, precision, s)\n",
    "cm"
   ],
   "id": "ee0dae3e8ecff8d",
   "outputs": [
    {
     "name": "stdout",
     "output_type": "stream",
     "text": [
      "0.6473758865248227 0.5986632130352175 0.7795870031833588\n"
     ]
    },
    {
     "data": {
      "text/plain": [
       "array([[1908,  611,  127],\n",
       "       [ 238,  279,   81],\n",
       "       [  70,  116,   95]])"
      ]
     },
     "execution_count": 7,
     "metadata": {},
     "output_type": "execute_result"
    }
   ],
   "execution_count": 7
  },
  {
   "metadata": {
    "ExecuteTime": {
     "end_time": "2024-07-17T02:13:30.251098Z",
     "start_time": "2024-07-17T02:13:29.996139Z"
    }
   },
   "cell_type": "code",
   "source": "optimize(fold_sol, sub_densenet201_db, \"spinal_canal\", value_column, population_size=10, n_generations=5, mutation_rate=0.1)",
   "id": "db8a65fa4f51c462",
   "outputs": [
    {
     "name": "stderr",
     "output_type": "stream",
     "text": [
      "100%|██████████| 5/5 [00:00<00:00, 20.74it/s]"
     ]
    },
    {
     "name": "stdout",
     "output_type": "stream",
     "text": [
      "Best individual: [0.50067352 0.92748053 0.00317369]\n",
      "Best fitness: -0.8595744680851064\n",
      "Accuracy 0.8595744680851064\n"
     ]
    },
    {
     "name": "stderr",
     "output_type": "stream",
     "text": [
      "\n"
     ]
    },
    {
     "data": {
      "text/plain": [
       "array([[605,   0,   0],\n",
       "       [ 52,   1,   0],\n",
       "       [ 45,   2,   0]])"
      ]
     },
     "execution_count": 10,
     "metadata": {},
     "output_type": "execute_result"
    }
   ],
   "execution_count": 10
  },
  {
   "metadata": {
    "ExecuteTime": {
     "end_time": "2024-07-17T02:11:48.316947Z",
     "start_time": "2024-07-17T02:11:48.243759Z"
    }
   },
   "cell_type": "code",
   "source": [
    "sub_efficientnet_b2_db = pd.read_csv(db_models_path.format(\"efficientnet_b2-DB-c3p1b16e20f14\"))\n",
    "accuracy, precision, cm, s = calculate_scores(sub_efficientnet_b2_db, fold_sol)\n",
    "print(accuracy, precision, s)\n",
    "cm"
   ],
   "id": "ab9ead6f527677a1",
   "outputs": [
    {
     "name": "stdout",
     "output_type": "stream",
     "text": [
      "0.6533333333333333 0.6320141633865707 0.8452039033084205\n"
     ]
    },
    {
     "data": {
      "text/plain": [
       "array([[1890,  385,  371],\n",
       "       [ 202,  260,  136],\n",
       "       [  35,   93,  153]])"
      ]
     },
     "execution_count": 8,
     "metadata": {},
     "output_type": "execute_result"
    }
   ],
   "execution_count": 8
  },
  {
   "metadata": {
    "ExecuteTime": {
     "end_time": "2024-07-17T02:12:28.410200Z",
     "start_time": "2024-07-17T02:12:28.133101Z"
    }
   },
   "cell_type": "code",
   "source": "optimize(fold_sol, sub_efficientnet_b2_db, \"spinal_canal\", value_column, population_size=10, n_generations=5, mutation_rate=0.1)",
   "id": "890e33d04e450b69",
   "outputs": [
    {
     "name": "stderr",
     "output_type": "stream",
     "text": [
      "100%|██████████| 5/5 [00:00<00:00, 19.74it/s]"
     ]
    },
    {
     "name": "stdout",
     "output_type": "stream",
     "text": [
      "Best individual: [0.80270584 0.10804183 0.22479222]\n",
      "Best fitness: -0.851063829787234\n",
      "Accuracy 0.851063829787234\n"
     ]
    },
    {
     "name": "stderr",
     "output_type": "stream",
     "text": [
      "\n"
     ]
    },
    {
     "data": {
      "text/plain": [
       "array([[559,   0,  46],\n",
       "       [ 34,   0,  19],\n",
       "       [  6,   0,  41]])"
      ]
     },
     "execution_count": 9,
     "metadata": {},
     "output_type": "execute_result"
    }
   ],
   "execution_count": 9
  },
  {
   "metadata": {},
   "cell_type": "code",
   "outputs": [],
   "execution_count": null,
   "source": "",
   "id": "1f720054df1a77bd"
  }
 ],
 "metadata": {
  "kernelspec": {
   "display_name": "Python 3",
   "language": "python",
   "name": "python3"
  },
  "language_info": {
   "codemirror_mode": {
    "name": "ipython",
    "version": 2
   },
   "file_extension": ".py",
   "mimetype": "text/x-python",
   "name": "python",
   "nbconvert_exporter": "python",
   "pygments_lexer": "ipython2",
   "version": "2.7.6"
  }
 },
 "nbformat": 4,
 "nbformat_minor": 5
}
