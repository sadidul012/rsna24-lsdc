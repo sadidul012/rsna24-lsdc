{
 "cells": [
  {
   "cell_type": "code",
   "id": "initial_id",
   "metadata": {
    "collapsed": true,
    "ExecuteTime": {
     "end_time": "2024-07-07T08:17:24.016137Z",
     "start_time": "2024-07-07T08:17:20.976168Z"
    }
   },
   "source": [
    "import numpy as np\n",
    "import pandas as pd\n",
    "from sklearn.model_selection import KFold\n",
    "import ast\n",
    "import cv2\n",
    "\n",
    "from single_dataset import DATA_PATH\n",
    "from single_train import N_FOLDS, SEED"
   ],
   "outputs": [],
   "execution_count": 1
  },
  {
   "metadata": {
    "ExecuteTime": {
     "end_time": "2024-07-07T08:17:24.267584Z",
     "start_time": "2024-07-07T08:17:24.017159Z"
    }
   },
   "cell_type": "code",
   "source": [
    "sagittal_t2 = pd.read_csv(\"../rsna24-data/saggittal_t2.csv\")\n",
    "sagittal_t1 = pd.read_csv(\"../rsna24-data/sagittal_t1.csv\")\n",
    "axial_t2 = pd.read_csv(\"../rsna24-data/axial_t2.csv\")"
   ],
   "id": "66549a8cdfa54640",
   "outputs": [],
   "execution_count": 2
  },
  {
   "metadata": {
    "ExecuteTime": {
     "end_time": "2024-07-07T08:17:24.270516Z",
     "start_time": "2024-07-07T08:17:24.268361Z"
    }
   },
   "cell_type": "code",
   "source": [
    "def apply(x):\n",
    "    x = x.sort_values(\"instance_number\")\n",
    "    x = [ast.literal_eval(x) for x in x.preds.values]\n",
    "    return cv2.resize(np.array(x), (240, 240), interpolation=cv2.INTER_CUBIC)"
   ],
   "id": "8b18d2dc236a30ef",
   "outputs": [],
   "execution_count": 3
  },
  {
   "metadata": {
    "ExecuteTime": {
     "end_time": "2024-07-07T08:17:32.265951Z",
     "start_time": "2024-07-07T08:17:24.271060Z"
    }
   },
   "cell_type": "code",
   "source": [
    "sagittal_t2 = sagittal_t2.groupby([\"study_id\", \"series_id\", \"series_description\"]).apply(apply)\n",
    "sagittal_t1 = sagittal_t1.groupby([\"study_id\", \"series_id\", \"series_description\"]).apply(apply)\n",
    "axial_t2 = axial_t2.groupby([\"study_id\", \"series_id\", \"series_description\"]).apply(apply)\n",
    "df = pd.concat([sagittal_t1, axial_t2, sagittal_t2])\n",
    "del sagittal_t1, axial_t2, sagittal_t2"
   ],
   "id": "31a12e2674fe5070",
   "outputs": [],
   "execution_count": 4
  },
  {
   "metadata": {
    "ExecuteTime": {
     "end_time": "2024-07-07T08:17:34.502444Z",
     "start_time": "2024-07-07T08:17:32.266999Z"
    }
   },
   "cell_type": "code",
   "source": "df.head()",
   "id": "ca025c055112cc3",
   "outputs": [
    {
     "data": {
      "text/plain": [
       "study_id  series_id   series_description\n",
       "4003253   1054713880  Sagittal T1           [[[0.9425638319896079, 0.045684960292843635, 0...\n",
       "4646740   3486248476  Sagittal T1           [[[0.7141367226191223, 0.2491852240339252, 0.0...\n",
       "7143189   3219733239  Sagittal T1           [[[0.9668390327396587, 0.028452445823666253, 0...\n",
       "8785691   1570286759  Sagittal T1           [[[0.9496683195680026, 0.039946704301318345, 0...\n",
       "10728036  2399638375  Sagittal T1           [[[0.888722207309249, 0.11348500866120123, -0....\n",
       "dtype: object"
      ]
     },
     "execution_count": 5,
     "metadata": {},
     "output_type": "execute_result"
    }
   ],
   "execution_count": 5
  },
  {
   "metadata": {
    "ExecuteTime": {
     "end_time": "2024-07-07T08:17:38.872880Z",
     "start_time": "2024-07-07T08:17:34.503249Z"
    }
   },
   "cell_type": "code",
   "source": [
    "df = df.reset_index()\n",
    "df.head()"
   ],
   "id": "4d8f93db67848e6f",
   "outputs": [
    {
     "data": {
      "text/plain": [
       "   study_id   series_id series_description  \\\n",
       "0   4003253  1054713880        Sagittal T1   \n",
       "1   4646740  3486248476        Sagittal T1   \n",
       "2   7143189  3219733239        Sagittal T1   \n",
       "3   8785691  1570286759        Sagittal T1   \n",
       "4  10728036  2399638375        Sagittal T1   \n",
       "\n",
       "                                                   0  \n",
       "0  [[[0.9425638319896079, 0.045684960292843635, 0...  \n",
       "1  [[[0.7141367226191223, 0.2491852240339252, 0.0...  \n",
       "2  [[[0.9668390327396587, 0.028452445823666253, 0...  \n",
       "3  [[[0.9496683195680026, 0.039946704301318345, 0...  \n",
       "4  [[[0.888722207309249, 0.11348500866120123, -0....  "
      ],
      "text/html": [
       "<div>\n",
       "<style scoped>\n",
       "    .dataframe tbody tr th:only-of-type {\n",
       "        vertical-align: middle;\n",
       "    }\n",
       "\n",
       "    .dataframe tbody tr th {\n",
       "        vertical-align: top;\n",
       "    }\n",
       "\n",
       "    .dataframe thead th {\n",
       "        text-align: right;\n",
       "    }\n",
       "</style>\n",
       "<table border=\"1\" class=\"dataframe\">\n",
       "  <thead>\n",
       "    <tr style=\"text-align: right;\">\n",
       "      <th></th>\n",
       "      <th>study_id</th>\n",
       "      <th>series_id</th>\n",
       "      <th>series_description</th>\n",
       "      <th>0</th>\n",
       "    </tr>\n",
       "  </thead>\n",
       "  <tbody>\n",
       "    <tr>\n",
       "      <th>0</th>\n",
       "      <td>4003253</td>\n",
       "      <td>1054713880</td>\n",
       "      <td>Sagittal T1</td>\n",
       "      <td>[[[0.9425638319896079, 0.045684960292843635, 0...</td>\n",
       "    </tr>\n",
       "    <tr>\n",
       "      <th>1</th>\n",
       "      <td>4646740</td>\n",
       "      <td>3486248476</td>\n",
       "      <td>Sagittal T1</td>\n",
       "      <td>[[[0.7141367226191223, 0.2491852240339252, 0.0...</td>\n",
       "    </tr>\n",
       "    <tr>\n",
       "      <th>2</th>\n",
       "      <td>7143189</td>\n",
       "      <td>3219733239</td>\n",
       "      <td>Sagittal T1</td>\n",
       "      <td>[[[0.9668390327396587, 0.028452445823666253, 0...</td>\n",
       "    </tr>\n",
       "    <tr>\n",
       "      <th>3</th>\n",
       "      <td>8785691</td>\n",
       "      <td>1570286759</td>\n",
       "      <td>Sagittal T1</td>\n",
       "      <td>[[[0.9496683195680026, 0.039946704301318345, 0...</td>\n",
       "    </tr>\n",
       "    <tr>\n",
       "      <th>4</th>\n",
       "      <td>10728036</td>\n",
       "      <td>2399638375</td>\n",
       "      <td>Sagittal T1</td>\n",
       "      <td>[[[0.888722207309249, 0.11348500866120123, -0....</td>\n",
       "    </tr>\n",
       "  </tbody>\n",
       "</table>\n",
       "</div>"
      ]
     },
     "execution_count": 6,
     "metadata": {},
     "output_type": "execute_result"
    }
   ],
   "execution_count": 6
  },
  {
   "metadata": {
    "ExecuteTime": {
     "end_time": "2024-07-07T08:27:34.770095Z",
     "start_time": "2024-07-07T08:27:32.058168Z"
    }
   },
   "cell_type": "code",
   "source": [
    "df = df.groupby([\"study_id\"]).apply(lambda x: np.vstack([np.array(y).transpose((2, 0, 1)) for y in x.sort_values(by=\"series_description\", ascending=False)[0].values]).shape)\n",
    "df.head()"
   ],
   "id": "fceadbb8474a6d17",
   "outputs": [
    {
     "data": {
      "text/plain": [
       "study_id\n",
       "4003253     (9, 240, 240)\n",
       "4646740     (9, 240, 240)\n",
       "7143189     (9, 240, 240)\n",
       "8785691     (9, 240, 240)\n",
       "10728036    (9, 240, 240)\n",
       "dtype: object"
      ]
     },
     "execution_count": 22,
     "metadata": {},
     "output_type": "execute_result"
    }
   ],
   "execution_count": 22
  },
  {
   "metadata": {
    "ExecuteTime": {
     "end_time": "2024-07-07T08:27:37.207719Z",
     "start_time": "2024-07-07T08:27:37.205664Z"
    }
   },
   "cell_type": "code",
   "source": "df.columns = [\"study_id\", \"image\"]",
   "id": "cfa41832a167548",
   "outputs": [],
   "execution_count": 23
  },
  {
   "metadata": {
    "ExecuteTime": {
     "end_time": "2024-07-07T08:28:31.600471Z",
     "start_time": "2024-07-07T08:28:31.597308Z"
    }
   },
   "cell_type": "code",
   "source": "df.head()",
   "id": "dbeb0f96b14af3bb",
   "outputs": [
    {
     "data": {
      "text/plain": [
       "study_id\n",
       "4003253     (9, 240, 240)\n",
       "4646740     (9, 240, 240)\n",
       "7143189     (9, 240, 240)\n",
       "8785691     (9, 240, 240)\n",
       "10728036    (9, 240, 240)\n",
       "dtype: object"
      ]
     },
     "execution_count": 27,
     "metadata": {},
     "output_type": "execute_result"
    }
   ],
   "execution_count": 27
  },
  {
   "metadata": {},
   "cell_type": "code",
   "outputs": [],
   "execution_count": null,
   "source": "",
   "id": "2e9bffa0d1c16b9"
  }
 ],
 "metadata": {
  "kernelspec": {
   "display_name": "Python 3",
   "language": "python",
   "name": "python3"
  },
  "language_info": {
   "codemirror_mode": {
    "name": "ipython",
    "version": 2
   },
   "file_extension": ".py",
   "mimetype": "text/x-python",
   "name": "python",
   "nbconvert_exporter": "python",
   "pygments_lexer": "ipython2",
   "version": "2.7.6"
  }
 },
 "nbformat": 4,
 "nbformat_minor": 5
}
