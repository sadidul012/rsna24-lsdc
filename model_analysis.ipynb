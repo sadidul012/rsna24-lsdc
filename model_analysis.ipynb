{
 "cells": [
  {
   "cell_type": "code",
   "id": "initial_id",
   "metadata": {
    "collapsed": true,
    "ExecuteTime": {
     "end_time": "2024-07-11T13:03:44.187778Z",
     "start_time": "2024-07-11T13:03:41.019494Z"
    }
   },
   "source": [
    "import numpy as np\n",
    "import pandas as pd\n",
    "from sklearn.model_selection import KFold\n",
    "from sklearn.metrics import accuracy_score, confusion_matrix, precision_score\n",
    "\n",
    "from score import score\n",
    "from single_dataset import read_train_csv, DATA_PATH, process_train_csv\n",
    "from single_train import N_FOLDS, SEED"
   ],
   "outputs": [
    {
     "name": "stdout",
     "output_type": "stream",
     "text": [
      "Model name: densenet201\n"
     ]
    }
   ],
   "execution_count": 1
  },
  {
   "metadata": {
    "ExecuteTime": {
     "end_time": "2024-07-11T13:03:44.272819Z",
     "start_time": "2024-07-11T13:03:44.188951Z"
    }
   },
   "cell_type": "code",
   "source": "df, solution, _ = read_train_csv(DATA_PATH)",
   "id": "2d80d855133f05c4",
   "outputs": [],
   "execution_count": 2
  },
  {
   "metadata": {
    "ExecuteTime": {
     "end_time": "2024-07-11T13:03:44.279001Z",
     "start_time": "2024-07-11T13:03:44.273567Z"
    }
   },
   "cell_type": "code",
   "source": [
    "skf = KFold(n_splits=N_FOLDS, shuffle=True, random_state=SEED)\n",
    "train_desc = pd.read_csv(DATA_PATH / \"train_series_descriptions.csv\")\n",
    "\n",
    "study_ids = np.array(df.study_id.unique())\n",
    "scores = []\n",
    "val_study_id = []\n",
    "\n",
    "for fold, (trn_idx, val_idx) in enumerate(skf.split(range(len(study_ids)))):\n",
    "    if fold != 0:\n",
    "        continue\n",
    "    print(f\"Test fold {fold}\")\n",
    "    print(\"train size\", len(trn_idx), \"test size\", len(val_idx))\n",
    "    val_study_id = study_ids[val_idx]\n"
   ],
   "id": "659368f48792e678",
   "outputs": [
    {
     "name": "stdout",
     "output_type": "stream",
     "text": [
      "Test fold 0\n",
      "train size 1833 test size 141\n"
     ]
    }
   ],
   "execution_count": 3
  },
  {
   "metadata": {
    "ExecuteTime": {
     "end_time": "2024-07-11T13:03:44.288280Z",
     "start_time": "2024-07-11T13:03:44.279614Z"
    }
   },
   "cell_type": "code",
   "source": [
    "fold_sol = solution.loc[solution.study_id.isin(val_study_id)].sort_values(by=\"row_id\").reset_index(drop=True)\n",
    "spinal_canal = fold_sol.row_id.str.contains(\"spinal_canal\")\n",
    "neural_foraminal = fold_sol.row_id.str.contains(\"neural_foraminal\")\n",
    "subarticular = fold_sol.row_id.str.contains(\"subarticular\")\n",
    "fold_sol = fold_sol[[\"row_id\", \"normal_mild\", \"moderate\", \"severe\", \"sample_weight\"]]\n",
    "fold_sol.shape"
   ],
   "id": "cb3058d212408ae7",
   "outputs": [
    {
     "data": {
      "text/plain": [
       "(3525, 5)"
      ]
     },
     "execution_count": 4,
     "metadata": {},
     "output_type": "execute_result"
    }
   ],
   "execution_count": 4
  },
  {
   "metadata": {
    "ExecuteTime": {
     "end_time": "2024-07-11T13:03:44.294836Z",
     "start_time": "2024-07-11T13:03:44.289093Z"
    }
   },
   "cell_type": "code",
   "source": "fold_sol.head()",
   "id": "8f904d6a983067e7",
   "outputs": [
    {
     "data": {
      "text/plain": [
       "                                             row_id  normal_mild  moderate  \\\n",
       "0  1004726367_left_neural_foraminal_narrowing_l1_l2          1.0       0.0   \n",
       "1  1004726367_left_neural_foraminal_narrowing_l2_l3          1.0       0.0   \n",
       "2  1004726367_left_neural_foraminal_narrowing_l3_l4          1.0       0.0   \n",
       "3  1004726367_left_neural_foraminal_narrowing_l4_l5          1.0       0.0   \n",
       "4  1004726367_left_neural_foraminal_narrowing_l5_s1          1.0       0.0   \n",
       "\n",
       "   severe  sample_weight  \n",
       "0     0.0            1.0  \n",
       "1     0.0            1.0  \n",
       "2     0.0            1.0  \n",
       "3     0.0            1.0  \n",
       "4     0.0            1.0  "
      ],
      "text/html": [
       "<div>\n",
       "<style scoped>\n",
       "    .dataframe tbody tr th:only-of-type {\n",
       "        vertical-align: middle;\n",
       "    }\n",
       "\n",
       "    .dataframe tbody tr th {\n",
       "        vertical-align: top;\n",
       "    }\n",
       "\n",
       "    .dataframe thead th {\n",
       "        text-align: right;\n",
       "    }\n",
       "</style>\n",
       "<table border=\"1\" class=\"dataframe\">\n",
       "  <thead>\n",
       "    <tr style=\"text-align: right;\">\n",
       "      <th></th>\n",
       "      <th>row_id</th>\n",
       "      <th>normal_mild</th>\n",
       "      <th>moderate</th>\n",
       "      <th>severe</th>\n",
       "      <th>sample_weight</th>\n",
       "    </tr>\n",
       "  </thead>\n",
       "  <tbody>\n",
       "    <tr>\n",
       "      <th>0</th>\n",
       "      <td>1004726367_left_neural_foraminal_narrowing_l1_l2</td>\n",
       "      <td>1.0</td>\n",
       "      <td>0.0</td>\n",
       "      <td>0.0</td>\n",
       "      <td>1.0</td>\n",
       "    </tr>\n",
       "    <tr>\n",
       "      <th>1</th>\n",
       "      <td>1004726367_left_neural_foraminal_narrowing_l2_l3</td>\n",
       "      <td>1.0</td>\n",
       "      <td>0.0</td>\n",
       "      <td>0.0</td>\n",
       "      <td>1.0</td>\n",
       "    </tr>\n",
       "    <tr>\n",
       "      <th>2</th>\n",
       "      <td>1004726367_left_neural_foraminal_narrowing_l3_l4</td>\n",
       "      <td>1.0</td>\n",
       "      <td>0.0</td>\n",
       "      <td>0.0</td>\n",
       "      <td>1.0</td>\n",
       "    </tr>\n",
       "    <tr>\n",
       "      <th>3</th>\n",
       "      <td>1004726367_left_neural_foraminal_narrowing_l4_l5</td>\n",
       "      <td>1.0</td>\n",
       "      <td>0.0</td>\n",
       "      <td>0.0</td>\n",
       "      <td>1.0</td>\n",
       "    </tr>\n",
       "    <tr>\n",
       "      <th>4</th>\n",
       "      <td>1004726367_left_neural_foraminal_narrowing_l5_s1</td>\n",
       "      <td>1.0</td>\n",
       "      <td>0.0</td>\n",
       "      <td>0.0</td>\n",
       "      <td>1.0</td>\n",
       "    </tr>\n",
       "  </tbody>\n",
       "</table>\n",
       "</div>"
      ]
     },
     "execution_count": 5,
     "metadata": {},
     "output_type": "execute_result"
    }
   ],
   "execution_count": 5
  },
  {
   "metadata": {},
   "cell_type": "code",
   "outputs": [],
   "execution_count": null,
   "source": "\"efficientnet_b2-DB-c3p1b16e20f14\"",
   "id": "182e472a34d59ec2"
  }
 ],
 "metadata": {
  "kernelspec": {
   "display_name": "Python 3",
   "language": "python",
   "name": "python3"
  },
  "language_info": {
   "codemirror_mode": {
    "name": "ipython",
    "version": 2
   },
   "file_extension": ".py",
   "mimetype": "text/x-python",
   "name": "python",
   "nbconvert_exporter": "python",
   "pygments_lexer": "ipython2",
   "version": "2.7.6"
  }
 },
 "nbformat": 4,
 "nbformat_minor": 5
}
